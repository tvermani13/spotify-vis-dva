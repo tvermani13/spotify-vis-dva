{
 "cells": [
  {
   "cell_type": "code",
   "execution_count": null,
   "id": "e6856c0b",
   "metadata": {},
   "outputs": [],
   "source": [
    "import pandas as pd\n",
    "import os"
   ]
  },
  {
   "cell_type": "code",
   "execution_count": 2,
   "id": "bfaa4a07",
   "metadata": {},
   "outputs": [],
   "source": [
    "directory_path = '../data'\n",
    "file_path = directory_path + '/cleaned_spotify_data.csv'"
   ]
  },
  {
   "cell_type": "code",
   "execution_count": 3,
   "id": "605b956d",
   "metadata": {},
   "outputs": [
    {
     "name": "stderr",
     "output_type": "stream",
     "text": [
      "/var/folders/fj/rxl3ndwj55b9ftybpjdh_7jw0000gn/T/ipykernel_82089/579665019.py:1: DtypeWarning: Columns (39,53,55,60,63,64,65,66,67,77,78) have mixed types. Specify dtype option on import or set low_memory=False.\n",
      "  df = pd.read_csv(file_path)\n"
     ]
    }
   ],
   "source": [
    "df = pd.read_csv(file_path)\n",
    "\n",
    "# float_cols = [39, 53, 55, 60, 63, 64, 78]\n",
    "# for col in float_cols:\n",
    "#     df.iloc[:, col] = df.iloc[:, col].astype(float)"
   ]
  },
  {
   "cell_type": "code",
   "execution_count": 4,
   "id": "9a241a9c",
   "metadata": {},
   "outputs": [],
   "source": [
    "song_columns = [\n",
    "    \"spotify_id\", \"name\", \"artists\", \"popularity\", \"is_explicit\", \"duration_ms\",\n",
    "    \"album_name\", \"album_release_date\", \"danceability\", \"energy\", \"key\", \"loudness\",\n",
    "    \"mode\", \"speechiness\", \"acousticness\", \"instrumentalness\", \"liveness\",\n",
    "    \"valence\", \"tempo\", \"time_signature\", \"country_y\"\n",
    "]\n",
    "song_df = df[song_columns].drop_duplicates(subset=[\"spotify_id\"])\n",
    "\n",
    "country_columns = [\n",
    "    \"Alpha-2 code\", \"Alpha-3 code\", \"Numeric code\", \"ISO 3166-2\", \"country_x\", \"country_y\",\n",
    "    \"Region\", \"Surface area (km2)\", \"Population in thousands (2017)\",\n",
    "    \"Population density (per km2, 2017)\", \"Sex ratio (m per 100 f, 2017)\",\n",
    "    \"GDP: Gross domestic product (million current US$)\", \"GDP growth rate (annual %, const. 2005 prices)\",\n",
    "    \"GDP per capita (current US$)\", \"Economy: Agriculture (% of GVA)\",\n",
    "    \"Economy: Industry (% of GVA)\", \"Economy: Services and other activity (% of GVA)\",\n",
    "    \"Employment: Agriculture (% of employed)\", \"Employment: Industry (% of employed)\",\n",
    "    \"Employment: Services (% of employed)\", \"Unemployment (% of labour force)\",\n",
    "    \"Labour force participation (female/male pop. %)\",\n",
    "    \"Agricultural production index (2004-2006=100)\", \"Food production index (2004-2006=100)\",\n",
    "    \"International trade: Exports (million US$)\", \"International trade: Imports (million US$)\",\n",
    "    \"International trade: Balance (million US$)\", \"Balance of payments, current account (million US$)\",\n",
    "    \"Population growth rate (average annual %)\", \"Urban population (% of total population)\",\n",
    "    \"Urban population growth rate (average annual %)\", \"Fertility rate, total (live births per woman)\",\n",
    "    \"Life expectancy at birth (females/males, years)\", \"Population age distribution (0-14 / 60+ years, %)\",\n",
    "    \"International migrant stock (000/% of total pop.)\", \"Refugees and others of concern to UNHCR (in thousands)\",\n",
    "    \"Infant mortality rate (per 1000 live births\", \"Health: Total expenditure (% of GDP)\",\n",
    "    \"Health: Physicians (per 1000 pop.)\", \"Education: Government expenditure (% of GDP)\",\n",
    "    \"Education: Primary gross enrol. ratio (f/m per 100 pop.)\", \"Education: Secondary gross enrol. ratio (f/m per 100 pop.)\",\n",
    "    \"Education: Tertiary gross enrol. ratio (f/m per 100 pop.)\", \"Seats held by women in national parliaments %\",\n",
    "    \"Mobile-cellular subscriptions (per 100 inhabitants)\", \"Mobile-cellular subscriptions (per 100 inhabitants).1\",\n",
    "    \"Individuals using the Internet (per 100 inhabitants)\", \"Threatened species (number)\",\n",
    "    \"Forested area (% of land area)\", \"CO2 emission estimates (million tons/tons per capita)\",\n",
    "    \"Energy production, primary (Petajoules)\", \"Energy supply per capita (Gigajoules)\",\n",
    "    \"Pop. using improved drinking water (urban/rural, %)\", \"Pop. using improved sanitation facilities (urban/rural, %)\",\n",
    "    \"Net Official Development Assist. received (% of GNI)\", \"Country\"\n",
    "]\n",
    "country_df = df[country_columns].drop_duplicates(subset=[\"Alpha-2 code\"])"
   ]
  },
  {
   "cell_type": "code",
   "execution_count": 5,
   "id": "74519fde",
   "metadata": {},
   "outputs": [],
   "source": [
    "song_df.to_csv(directory_path + \"/songs_clean.csv\", index=False)\n",
    "country_df.to_csv(directory_path + \"/countries_clean.csv\", index=False)"
   ]
  },
  {
   "cell_type": "code",
   "execution_count": 6,
   "id": "0ad24fa7",
   "metadata": {},
   "outputs": [],
   "source": [
    "rankings_df = df[[\n",
    "    \"snapshot_date\", \"spotify_id\", \"country_y\", \"danceability\", \"energy\", \"valence\"\n",
    "]]\n",
    "\n",
    "enriched_df = rankings_df.merge(song_df[[\"spotify_id\", \"country_y\"]], on=[\"spotify_id\", \"country_y\"], how=\"left\")"
   ]
  },
  {
   "cell_type": "code",
   "execution_count": 7,
   "id": "1643550d",
   "metadata": {},
   "outputs": [],
   "source": [
    "enriched_df.to_csv(directory_path + \"/processed_data.csv\", index=False)"
   ]
  }
 ],
 "metadata": {
  "kernelspec": {
   "display_name": "base",
   "language": "python",
   "name": "python3"
  },
  "language_info": {
   "codemirror_mode": {
    "name": "ipython",
    "version": 3
   },
   "file_extension": ".py",
   "mimetype": "text/x-python",
   "name": "python",
   "nbconvert_exporter": "python",
   "pygments_lexer": "ipython3",
   "version": "3.11.7"
  }
 },
 "nbformat": 4,
 "nbformat_minor": 5
}
